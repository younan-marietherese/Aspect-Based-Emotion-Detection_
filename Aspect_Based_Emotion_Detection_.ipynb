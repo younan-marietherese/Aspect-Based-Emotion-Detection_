{
 "cells": [
  {
   "cell_type": "markdown",
   "metadata": {
    "id": "EaqD7Fo3vcXV"
   },
   "source": [
    "**Aspect-Based Emotion Detection**\n",
    "\n",
    "Purpose\n",
    "\n",
    "The purpose of this activity is to implement an application to identify emotions about a specific aspect in product reviews.\n",
    "\n",
    "Instructions\n",
    "\n",
    "Emotion detection is a topic related to sentiment analysis. It aims at identifying a variety of emotions in the text such as: anger, joy, sadness, etc. In this assignment, you are asked to study the emotions related to a given aspect of a product. For example, the battery life of iPhone 5, the color or fabric of specific dresses, etc.\n",
    "\n",
    "You have to start by collecting product reviews (50 is enough for this assignment).\n",
    "\n",
    "You can try to get them in Arabic.\n",
    "\n",
    "You can get English reviews and then translate them to Arabic.\n",
    "\n",
    "Generate a few using LLMs.\n",
    "\n",
    "Identify one aspect you will be focusing on, for example the size, the color, etc.\n",
    "\n",
    "Extract all sentences related to that aspect (regular expressions, tokenization, etc.)\n",
    "\n",
    "Use either an existing lexicon, or build your own for anger, joy and sadness emotions. You could also use pre-trained word embeddings.\n",
    "\n",
    "Identify the emotion for each of the extracted sentences.\n",
    "\n",
    "Validate the results (manually if needed), are they accurate? use evaluation metrics.\n",
    "\n",
    "Make a recommendation based on the results you obtained. How do customers feel about this aspect? Do you need to change it?"
   ]
  },
  {
   "cell_type": "code",
   "execution_count": null,
   "metadata": {
    "colab": {
     "base_uri": "https://localhost:8080/"
    },
    "id": "wvBBP1zdNDAt",
    "outputId": "bc0b5423-bfd8-40a2-cdd0-59b89e374168"
   },
   "outputs": [
    {
     "name": "stdout",
     "output_type": "stream",
     "text": [
      "Collecting googletrans==4.0.0-rc1\n",
      "  Downloading googletrans-4.0.0rc1.tar.gz (20 kB)\n",
      "  Preparing metadata (setup.py) ... \u001b[?25l\u001b[?25hdone\n",
      "Collecting httpx==0.13.3 (from googletrans==4.0.0-rc1)\n",
      "  Downloading httpx-0.13.3-py3-none-any.whl.metadata (25 kB)\n",
      "Requirement already satisfied: certifi in /usr/local/lib/python3.10/dist-packages (from httpx==0.13.3->googletrans==4.0.0-rc1) (2024.8.30)\n",
      "Collecting hstspreload (from httpx==0.13.3->googletrans==4.0.0-rc1)\n",
      "  Downloading hstspreload-2024.9.1-py3-none-any.whl.metadata (2.1 kB)\n",
      "Requirement already satisfied: sniffio in /usr/local/lib/python3.10/dist-packages (from httpx==0.13.3->googletrans==4.0.0-rc1) (1.3.1)\n",
      "Collecting chardet==3.* (from httpx==0.13.3->googletrans==4.0.0-rc1)\n",
      "  Downloading chardet-3.0.4-py2.py3-none-any.whl.metadata (3.2 kB)\n",
      "Collecting idna==2.* (from httpx==0.13.3->googletrans==4.0.0-rc1)\n",
      "  Downloading idna-2.10-py2.py3-none-any.whl.metadata (9.1 kB)\n",
      "Collecting rfc3986<2,>=1.3 (from httpx==0.13.3->googletrans==4.0.0-rc1)\n",
      "  Downloading rfc3986-1.5.0-py2.py3-none-any.whl.metadata (6.5 kB)\n",
      "Collecting httpcore==0.9.* (from httpx==0.13.3->googletrans==4.0.0-rc1)\n",
      "  Downloading httpcore-0.9.1-py3-none-any.whl.metadata (4.6 kB)\n",
      "Collecting h11<0.10,>=0.8 (from httpcore==0.9.*->httpx==0.13.3->googletrans==4.0.0-rc1)\n",
      "  Downloading h11-0.9.0-py2.py3-none-any.whl.metadata (8.1 kB)\n",
      "Collecting h2==3.* (from httpcore==0.9.*->httpx==0.13.3->googletrans==4.0.0-rc1)\n",
      "  Downloading h2-3.2.0-py2.py3-none-any.whl.metadata (32 kB)\n",
      "Collecting hyperframe<6,>=5.2.0 (from h2==3.*->httpcore==0.9.*->httpx==0.13.3->googletrans==4.0.0-rc1)\n",
      "  Downloading hyperframe-5.2.0-py2.py3-none-any.whl.metadata (7.2 kB)\n",
      "Collecting hpack<4,>=3.0 (from h2==3.*->httpcore==0.9.*->httpx==0.13.3->googletrans==4.0.0-rc1)\n",
      "  Downloading hpack-3.0.0-py2.py3-none-any.whl.metadata (7.0 kB)\n",
      "Downloading httpx-0.13.3-py3-none-any.whl (55 kB)\n",
      "\u001b[2K   \u001b[90m━━━━━━━━━━━━━━━━━━━━━━━━━━━━━━━━━━━━━━━━\u001b[0m \u001b[32m55.1/55.1 kB\u001b[0m \u001b[31m2.7 MB/s\u001b[0m eta \u001b[36m0:00:00\u001b[0m\n",
      "\u001b[?25hDownloading chardet-3.0.4-py2.py3-none-any.whl (133 kB)\n",
      "\u001b[2K   \u001b[90m━━━━━━━━━━━━━━━━━━━━━━━━━━━━━━━━━━━━━━━━\u001b[0m \u001b[32m133.4/133.4 kB\u001b[0m \u001b[31m2.3 MB/s\u001b[0m eta \u001b[36m0:00:00\u001b[0m\n",
      "\u001b[?25hDownloading httpcore-0.9.1-py3-none-any.whl (42 kB)\n",
      "\u001b[2K   \u001b[90m━━━━━━━━━━━━━━━━━━━━━━━━━━━━━━━━━━━━━━━━\u001b[0m \u001b[32m42.6/42.6 kB\u001b[0m \u001b[31m2.2 MB/s\u001b[0m eta \u001b[36m0:00:00\u001b[0m\n",
      "\u001b[?25hDownloading idna-2.10-py2.py3-none-any.whl (58 kB)\n",
      "\u001b[2K   \u001b[90m━━━━━━━━━━━━━━━━━━━━━━━━━━━━━━━━━━━━━━━━\u001b[0m \u001b[32m58.8/58.8 kB\u001b[0m \u001b[31m3.2 MB/s\u001b[0m eta \u001b[36m0:00:00\u001b[0m\n",
      "\u001b[?25hDownloading h2-3.2.0-py2.py3-none-any.whl (65 kB)\n",
      "\u001b[2K   \u001b[90m━━━━━━━━━━━━━━━━━━━━━━━━━━━━━━━━━━━━━━━━\u001b[0m \u001b[32m65.0/65.0 kB\u001b[0m \u001b[31m3.7 MB/s\u001b[0m eta \u001b[36m0:00:00\u001b[0m\n",
      "\u001b[?25hDownloading rfc3986-1.5.0-py2.py3-none-any.whl (31 kB)\n",
      "Downloading hstspreload-2024.9.1-py3-none-any.whl (1.2 MB)\n",
      "\u001b[2K   \u001b[90m━━━━━━━━━━━━━━━━━━━━━━━━━━━━━━━━━━━━━━━━\u001b[0m \u001b[32m1.2/1.2 MB\u001b[0m \u001b[31m11.9 MB/s\u001b[0m eta \u001b[36m0:00:00\u001b[0m\n",
      "\u001b[?25hDownloading h11-0.9.0-py2.py3-none-any.whl (53 kB)\n",
      "\u001b[2K   \u001b[90m━━━━━━━━━━━━━━━━━━━━━━━━━━━━━━━━━━━━━━━━\u001b[0m \u001b[32m53.6/53.6 kB\u001b[0m \u001b[31m2.8 MB/s\u001b[0m eta \u001b[36m0:00:00\u001b[0m\n",
      "\u001b[?25hDownloading hpack-3.0.0-py2.py3-none-any.whl (38 kB)\n",
      "Downloading hyperframe-5.2.0-py2.py3-none-any.whl (12 kB)\n",
      "Building wheels for collected packages: googletrans\n",
      "  Building wheel for googletrans (setup.py) ... \u001b[?25l\u001b[?25hdone\n",
      "  Created wheel for googletrans: filename=googletrans-4.0.0rc1-py3-none-any.whl size=17397 sha256=cc25519103807772bf0e088e4a3a55ddc7a374456f3c07a07f03992a1b5469c9\n",
      "  Stored in directory: /root/.cache/pip/wheels/c0/59/9f/7372f0cf70160fe61b528532e1a7c8498c4becd6bcffb022de\n",
      "Successfully built googletrans\n",
      "Installing collected packages: rfc3986, hyperframe, hpack, h11, chardet, idna, hstspreload, h2, httpcore, httpx, googletrans\n",
      "  Attempting uninstall: chardet\n",
      "    Found existing installation: chardet 5.2.0\n",
      "    Uninstalling chardet-5.2.0:\n",
      "      Successfully uninstalled chardet-5.2.0\n",
      "  Attempting uninstall: idna\n",
      "    Found existing installation: idna 3.10\n",
      "    Uninstalling idna-3.10:\n",
      "      Successfully uninstalled idna-3.10\n",
      "Successfully installed chardet-3.0.4 googletrans-4.0.0rc1 h11-0.9.0 h2-3.2.0 hpack-3.0.0 hstspreload-2024.9.1 httpcore-0.9.1 httpx-0.13.3 hyperframe-5.2.0 idna-2.10 rfc3986-1.5.0\n"
     ]
    }
   ],
   "source": [
    "!pip install googletrans==4.0.0-rc1"
   ]
  },
  {
   "cell_type": "markdown",
   "metadata": {
    "id": "P5g-8oh7WE3N"
   },
   "source": [
    "**Step 1 - Translate the 50 Generated Reviews to Arabic**"
   ]
  },
  {
   "cell_type": "code",
   "execution_count": null,
   "metadata": {
    "colab": {
     "base_uri": "https://localhost:8080/"
    },
    "id": "TNsLocFTN9m3",
    "outputId": "2e383a0c-f046-4891-b9d2-684bbabca29a"
   },
   "outputs": [
    {
     "name": "stdout",
     "output_type": "stream",
     "text": [
      "عمر بطارية iPhone 5 ممتاز ويستمر يومًا كاملاً.\n",
      "أشعر بخيبة أمل من عمر البطارية في جهاز iPhone 5 الخاص بي. إنه يستنزف بسرعة كبيرة.\n",
      "بطارية الهاتف لائقة ، ولكنها ليست رائعة.يحتاج إلى الشحن بحلول المساء.\n",
      "تستمر بطارية iPhone 5 لفترة أطول مما كنت أتوقع ورضا للغاية.\n",
      "تدهورت عمر البطارية على جهاز iPhone 5 الخاص بي بمرور الوقت ، والآن بالكاد يستمر نصف يوم.\n",
      "عمر البطارية على جهاز iPhone 5 الخاص بي ليس رائعًا ، وعلي شحنه عدة مرات في اليوم.\n",
      "بعد الشحن الكامل ، تستمر بطارية iPhone 5 حوالي 5 ساعات مع الاستخدام المعتدل.\n",
      "لقد تفاقم عمر البطارية بشكل كبير منذ أن اشتريت الهاتف قبل عام.\n",
      "بطارية iPhone 5 على ما يرام لاستخدام الضوء ولكن يستنزف بسرعة مع تشغيل التطبيقات.\n",
      "أحب الهاتف ، لكن عمر البطارية قد يكون بالتأكيد أفضل.\n",
      "عمر البطارية كافيًا إذا لم تكن تستخدمها باستمرار ، ولكنها ليست رائعة للمستخدمين الثقيل.\n",
      "يموت الهاتف بسرعة حتى عندما لا أستخدمه كثيرًا.إنه أمر محبط.\n",
      "لا بد لي من حمل بنك الطاقة معي لأن البطارية لا تدوم لفترة كافية.\n",
      "أتمنى أن تستمر البطارية يومًا كاملاً دون الحاجة إلى إعادة الشحن في منتصف الطريق.\n",
      "عمر البطارية ليس فظيعًا ، ولكن يمكن تحسينه.\n",
      "اضطررت إلى استبدال بطارية iPhone 5 مرتين بالفعل بسبب ضعف الأداء.\n",
      "استنزاف البطارية بسرعة بشكل لا يصدق عندما أستخدم التطبيقات أو تصفح الويب.\n",
      "أنا سعيد بالهاتف ، لكن البطارية تستنزف بسرعة كبيرة بسبب رغبتي.\n",
      "عمر البطارية على جهاز iPhone 5 الخاص بي لائق للمكالمات والنصوص الأساسية ولكنه يكافح مع التطبيقات.\n",
      "أتقاضى هاتفي بين عشية وضحاها ، وبحلول الظهر ، يكون بالفعل بطارية بنسبة 50 ٪.\n",
      "يحتوي iPhone 5 على واحدة من أضعف البطاريات التي شهدتها في الهاتف الذكي.\n",
      "أحب الهاتف ، لكن عمر البطارية فظيع.\n",
      "إنه هاتف جيد بشكل عام ، لكن عمر البطارية يترك الكثير مما هو مرغوب فيه.\n",
      "كانت عمر البطارية جيدًا ، ولكن بعد بضعة أشهر ، لم تدوم أكثر من بضع ساعات.\n",
      "استنزاف بطارية iPhone 5 الخاص بي بسرعة كبيرة ، حتى عندما يكون في وضع الاستعداد.\n",
      "لا بد لي من شحن جهاز iPhone 5 على الأقل مرتين في اليوم ، وأحيانًا حتى ثلاث مرات.\n",
      "عمر البطارية بالكاد يكفي ليستمر لي يوم عمل كامل.\n",
      "بعد امتلاك الهاتف لمدة عامين ، بالكاد تستمر البطارية أربع ساعات الآن.\n",
      "حتى بعد استبدال البطارية ، لا يزال عمر البطارية على جهاز iPhone 5 سيئًا.\n",
      "لا يمكنني الوصول إلى يوم واحد دون الحاجة إلى إعادة الشحن عدة مرات.\n",
      "أنا أفكر في تبديل الهواتف لأن عمر البطارية غير موثوق به.\n",
      "البطارية هي أسوأ جزء من هذا الهاتف.يستنزف في بضع ساعات فقط من الاستخدام المنتظم.\n",
      "اعتادت عمر البطارية أن تكون رائعة ، لكنها انخفضت بشكل كبير بمرور الوقت.\n",
      "يجب أن أبقي السطوع منخفضًا وإيقاف الإخطارات لجعل البطارية تدوم لفترة أطول.\n",
      "يعمل الهاتف بشكل جيد ، لكن البطارية هي جانب سلبي رئيسي.\n",
      "يستمر جهاز iPhone 5 الخاص بي حوالي 6 ساعات قبل الحاجة إلى توصيله مرة أخرى.\n",
      "أنا شحن الهاتف بين عشية وضحاها ، ولكن بحلول فترة ما بعد الظهر ، فإن البطارية منخفضة بالفعل.\n",
      "أتمنى أن يكون عمر البطارية أفضل لأنني أحب الهاتف.\n",
      "استنزاف البطارية على iPhone 5 بسرعة كبيرة لدرجة أنني يجب أن أبحث باستمرار عن شاحن.\n",
      "إنه لأمر محبط مدى استنزاف البطارية ، حتى عندما لا أستخدم الهاتف كثيرًا.\n",
      "تستخدم البطارية لتستمر طوال اليوم ، لكنها الآن بالكاد تجعلها خلال بضع ساعات.\n",
      "أنا أحب الهاتف ، لكن عمر البطارية يحتاج إلى تحسن خطير.\n",
      "الهاتف خفيف الوزن ، لكن عمر البطارية لا يتطابق مع قابلية نقله.\n",
      "لقد اشتريت علبة بطارية خارجية لأن بطارية الهاتف تموت بهذه السرعة.\n",
      "تستنزف البطارية بسرعة عندما أقوم ببث مقاطع الفيديو أو ممارسة الألعاب.\n",
      "بالنسبة للهاتف الذي يبلغ عمره بضع سنوات ، فإن عمر البطارية لائق بشكل مدهش.\n",
      "لقد اعتدت على عمر البطارية القصير ، لكن الأمر لا يزال محبطًا.\n",
      "يمكن التحكم في عمر البطارية إذا لم تستخدم الهاتف لأي شيء أكثر من المكالمات والنصوص.\n",
      "إذا كنت تستخدم التطبيقات باستمرار ، فإن البطارية تستنزف بسرعة كبيرة.\n",
      "تستمر البطارية حوالي 8 ساعات إذا كنت أستخدم الهاتف فقط للمهام الأساسية.\n",
      "أنا راضٍ عن الهاتف بشكل عام ، لكن عمر البطارية ليس رائعًا.\n"
     ]
    }
   ],
   "source": [
    "from googletrans import Translator\n",
    "\n",
    "#initialize the Google Translator\n",
    "translator = Translator()\n",
    "\n",
    "#some generated english reviews\n",
    "english_reviews = [\n",
    "    \"The battery life of the iPhone 5 is excellent and lasts a full day.\",\n",
    "    \"I'm disappointed with the battery life of my iPhone 5. It drains too quickly.\",\n",
    "    \"The phone's battery is decent, but not great. It needs charging by the evening.\",\n",
    "    \"The iPhone 5 battery lasts longer than I expected, very satisfied.\",\n",
    "    \"The battery life on my iPhone 5 has deteriorated over time, and now it barely lasts half a day.\",\n",
    "    \"The battery life on my iPhone 5 is not great, and I have to charge it multiple times a day.\",\n",
    "    \"After a full charge, the iPhone 5 battery lasts about 5 hours with moderate use.\",\n",
    "    \"The battery life has significantly worsened since I bought the phone a year ago.\",\n",
    "    \"The iPhone 5 battery is okay for light use but drains quickly with apps running.\",\n",
    "    \"I love the phone, but the battery life could definitely be better.\",\n",
    "    \"The battery life is sufficient if you’re not constantly using it, but not great for heavy users.\",\n",
    "    \"The phone dies quickly even when I’m not using it much. It’s frustrating.\",\n",
    "    \"I have to carry a power bank with me because the battery doesn't last long enough.\",\n",
    "    \"I wish the battery would last a full day without needing to recharge halfway through.\",\n",
    "    \"The battery life isn’t terrible, but it could be improved.\",\n",
    "    \"I’ve had to replace my iPhone 5 battery twice already due to poor performance.\",\n",
    "    \"The battery drains incredibly fast when I use apps or browse the web.\",\n",
    "    \"I’m happy with the phone, but the battery drains too fast for my liking.\",\n",
    "    \"The battery life on my iPhone 5 is decent for basic calls and texts but struggles with apps.\",\n",
    "    \"I charge my phone overnight, and by noon it’s already at 50% battery.\",\n",
    "    \"The iPhone 5 has one of the weakest batteries I've experienced in a smartphone.\",\n",
    "    \"I love the phone, but the battery life is just awful.\",\n",
    "    \"It’s a good phone overall, but the battery life leaves much to be desired.\",\n",
    "    \"The battery life used to be good, but after a few months, it doesn’t last more than a few hours.\",\n",
    "    \"My iPhone 5’s battery drains too quickly, even when it’s on standby.\",\n",
    "    \"I have to charge my iPhone 5 at least twice a day, sometimes even three times.\",\n",
    "    \"The battery life is barely enough to last me a full workday.\",\n",
    "    \"After owning the phone for two years, the battery barely lasts four hours now.\",\n",
    "    \"Even after a battery replacement, the battery life on my iPhone 5 is still poor.\",\n",
    "    \"I can’t get through a day without needing to recharge multiple times.\",\n",
    "    \"I’m considering switching phones because the battery life is so unreliable.\",\n",
    "    \"The battery is the worst part of this phone. It drains in just a few hours of regular use.\",\n",
    "    \"The battery life used to be great, but it has significantly declined over time.\",\n",
    "    \"I have to keep the brightness low and turn off notifications to make the battery last longer.\",\n",
    "    \"The phone performs well, but the battery is a major downside.\",\n",
    "    \"My iPhone 5 lasts about 6 hours before needing to be plugged in again.\",\n",
    "    \"I charge the phone overnight, but by the afternoon, the battery is already low.\",\n",
    "    \"I wish the battery life was better because otherwise, I like the phone.\",\n",
    "    \"The battery on the iPhone 5 drains so fast that I have to constantly look for a charger.\",\n",
    "    \"It’s frustrating how quickly the battery drains, even when I’m not using the phone much.\",\n",
    "    \"The battery used to last all day, but now it barely makes it through a few hours.\",\n",
    "    \"I like the phone, but the battery life needs serious improvement.\",\n",
    "    \"The phone is lightweight, but the battery life doesn’t match its portability.\",\n",
    "    \"I bought an external battery case because the phone battery dies so quickly.\",\n",
    "    \"The battery drains fast when I’m streaming videos or playing games.\",\n",
    "    \"For a phone that’s a few years old, the battery life is surprisingly decent.\",\n",
    "    \"I’ve gotten used to the short battery life, but it’s still frustrating.\",\n",
    "    \"The battery life is manageable if you don’t use the phone for anything more than calls and texts.\",\n",
    "    \"If you’re constantly using apps, the battery drains extremely fast.\",\n",
    "    \"The battery lasts about 8 hours if I only use the phone for basic tasks.\",\n",
    "    \"I’m satisfied with the phone overall, but the battery life is not great.\"\n",
    "]\n",
    "\n",
    "#lets translate the reviews to Arabic\n",
    "arabic_reviews = [translator.translate(review, src='en', dest='ar').text for review in english_reviews]\n",
    "\n",
    "#print the translated Arabic reviews\n",
    "for review in arabic_reviews:\n",
    "    print(review)\n"
   ]
  },
  {
   "cell_type": "markdown",
   "metadata": {
    "id": "xTU1SL-yXW_R"
   },
   "source": [
    "We begin with the 50 English-language reviews about the iPhone 5's battery life. We will now use Google Translate (googletrans library) to translate these reviews into Arabic.\n",
    "\n",
    "Since we need the Arabic reviews for additional sentiment analysis and emotion recognition, we are translating the English reviews into Arabic in this instance.\n"
   ]
  },
  {
   "cell_type": "markdown",
   "metadata": {
    "id": "3bAijMudWPlE"
   },
   "source": [
    "**Step 2 - Extract Aspect-Specific Sentences Related to \"Battery Life\"**"
   ]
  },
  {
   "cell_type": "markdown",
   "metadata": {
    "id": "jnNu7k-SWfjP"
   },
   "source": [
    "Aspect-Specific Sentence Extraction"
   ]
  },
  {
   "cell_type": "code",
   "execution_count": null,
   "metadata": {
    "colab": {
     "base_uri": "https://localhost:8080/"
    },
    "id": "qfSn6hZ1ONEw",
    "outputId": "de6ea4e4-bcd8-4062-9ff5-0077dd899f13"
   },
   "outputs": [
    {
     "name": "stdout",
     "output_type": "stream",
     "text": [
      "أشعر بخيبة أمل من عمر البطارية في جهاز iPhone 5 الخاص بي.\n",
      "تدهورت عمر البطارية على جهاز iPhone 5 الخاص بي بمرور الوقت ، والآن بالكاد يستمر نصف يوم.\n",
      "عمر البطارية على جهاز iPhone 5 الخاص بي ليس رائعًا ، وعلي شحنه عدة مرات في اليوم.\n",
      "لقد تفاقم عمر البطارية بشكل كبير منذ أن اشتريت الهاتف قبل عام.\n",
      "أحب الهاتف ، لكن عمر البطارية قد يكون بالتأكيد أفضل.\n",
      "عمر البطارية كافيًا إذا لم تكن تستخدمها باستمرار ، ولكنها ليست رائعة للمستخدمين الثقيل.\n",
      "لا بد لي من حمل بنك الطاقة معي لأن البطارية لا تدوم لفترة كافية.\n",
      "أتمنى أن تستمر البطارية يومًا كاملاً دون الحاجة إلى إعادة الشحن في منتصف الطريق.\n",
      "عمر البطارية ليس فظيعًا ، ولكن يمكن تحسينه.\n",
      "استنزاف البطارية بسرعة بشكل لا يصدق عندما أستخدم التطبيقات أو تصفح الويب.\n",
      "أنا سعيد بالهاتف ، لكن البطارية تستنزف بسرعة كبيرة بسبب رغبتي.\n",
      "عمر البطارية على جهاز iPhone 5 الخاص بي لائق للمكالمات والنصوص الأساسية ولكنه يكافح مع التطبيقات.\n",
      "أحب الهاتف ، لكن عمر البطارية فظيع.\n",
      "إنه هاتف جيد بشكل عام ، لكن عمر البطارية يترك الكثير مما هو مرغوب فيه.\n",
      "كانت عمر البطارية جيدًا ، ولكن بعد بضعة أشهر ، لم تدوم أكثر من بضع ساعات.\n",
      "عمر البطارية بالكاد يكفي ليستمر لي يوم عمل كامل.\n",
      "بعد امتلاك الهاتف لمدة عامين ، بالكاد تستمر البطارية أربع ساعات الآن.\n",
      "حتى بعد استبدال البطارية ، لا يزال عمر البطارية على جهاز iPhone 5 سيئًا.\n",
      "أنا أفكر في تبديل الهواتف لأن عمر البطارية غير موثوق به.\n",
      "البطارية هي أسوأ جزء من هذا الهاتف.يستنزف في بضع ساعات فقط من الاستخدام المنتظم.\n",
      "اعتادت عمر البطارية أن تكون رائعة ، لكنها انخفضت بشكل كبير بمرور الوقت.\n",
      "يجب أن أبقي السطوع منخفضًا وإيقاف الإخطارات لجعل البطارية تدوم لفترة أطول.\n",
      "يعمل الهاتف بشكل جيد ، لكن البطارية هي جانب سلبي رئيسي.\n",
      "أنا شحن الهاتف بين عشية وضحاها ، ولكن بحلول فترة ما بعد الظهر ، فإن البطارية منخفضة بالفعل.\n",
      "أتمنى أن يكون عمر البطارية أفضل لأنني أحب الهاتف.\n",
      "استنزاف البطارية على iPhone 5 بسرعة كبيرة لدرجة أنني يجب أن أبحث باستمرار عن شاحن.\n",
      "إنه لأمر محبط مدى استنزاف البطارية ، حتى عندما لا أستخدم الهاتف كثيرًا.\n",
      "تستخدم البطارية لتستمر طوال اليوم ، لكنها الآن بالكاد تجعلها خلال بضع ساعات.\n",
      "أنا أحب الهاتف ، لكن عمر البطارية يحتاج إلى تحسن خطير.\n",
      "الهاتف خفيف الوزن ، لكن عمر البطارية لا يتطابق مع قابلية نقله.\n",
      "تستنزف البطارية بسرعة عندما أقوم ببث مقاطع الفيديو أو ممارسة الألعاب.\n",
      "بالنسبة للهاتف الذي يبلغ عمره بضع سنوات ، فإن عمر البطارية لائق بشكل مدهش.\n",
      "لقد اعتدت على عمر البطارية القصير ، لكن الأمر لا يزال محبطًا.\n",
      "يمكن التحكم في عمر البطارية إذا لم تستخدم الهاتف لأي شيء أكثر من المكالمات والنصوص.\n",
      "إذا كنت تستخدم التطبيقات باستمرار ، فإن البطارية تستنزف بسرعة كبيرة.\n",
      "تستمر البطارية حوالي 8 ساعات إذا كنت أستخدم الهاتف فقط للمهام الأساسية.\n",
      "أنا راضٍ عن الهاتف بشكل عام ، لكن عمر البطارية ليس رائعًا.\n"
     ]
    }
   ],
   "source": [
    "#Aspect-Specific Sentence Extraction\n",
    "import re\n",
    "\n",
    "#start with a function to extract sentences related to the specified aspect in Arabic\n",
    "def extract_aspect_sentences(reviews, aspect=\"البطارية\"):\n",
    "    aspect_sentences = []\n",
    "    aspect_regex = re.compile(r'\\b' + re.escape(aspect) + r'\\b', re.IGNORECASE)\n",
    "\n",
    "    for review in reviews:\n",
    "        sentences = re.split(r'(?<!\\w\\.\\w.)(?<![A-Z][a-z]\\.)(?<=\\.|\\؟)\\s', review)\n",
    "        for sentence in sentences:\n",
    "            if aspect_regex.search(sentence):\n",
    "                aspect_sentences.append(sentence.strip())\n",
    "\n",
    "    return aspect_sentences\n",
    "\n",
    "#extract sentences related to \"البطارية\" (battery) in Arabic reviews\n",
    "aspect = \"البطارية\"\n",
    "aspect_sentences = extract_aspect_sentences(arabic_reviews, aspect)\n",
    "\n",
    "#print the extracted aspect-related sentences\n",
    "for sentence in aspect_sentences:\n",
    "    print(sentence)"
   ]
  },
  {
   "cell_type": "markdown",
   "metadata": {
    "id": "BDY8mJOSXqEK"
   },
   "source": [
    "Then, we will take the Arabic reviews and extract lines that explicitly refer to the \"battery life\" (Arabic: \"البطارية\").\n",
    "\n",
    "Since we want to concentrate on this particular element, we are utilizing regular expressions to locate and extract sentences from the Arabic reviews that include \"البطارية\" (battery life).\n"
   ]
  },
  {
   "cell_type": "code",
   "execution_count": null,
   "metadata": {
    "colab": {
     "base_uri": "https://localhost:8080/"
    },
    "id": "Qlzxb0yYQ002",
    "outputId": "da7e538a-e5aa-47e2-a8c0-36d617cd8f3f"
   },
   "outputs": [
    {
     "name": "stdout",
     "output_type": "stream",
     "text": [
      "Requirement already satisfied: transformers in /usr/local/lib/python3.10/dist-packages (4.44.2)\n",
      "Requirement already satisfied: torch in /usr/local/lib/python3.10/dist-packages (2.4.1+cu121)\n",
      "Collecting arabert\n",
      "  Downloading arabert-1.0.1-py3-none-any.whl.metadata (16 kB)\n",
      "Requirement already satisfied: filelock in /usr/local/lib/python3.10/dist-packages (from transformers) (3.16.1)\n",
      "Requirement already satisfied: huggingface-hub<1.0,>=0.23.2 in /usr/local/lib/python3.10/dist-packages (from transformers) (0.24.7)\n",
      "Requirement already satisfied: numpy>=1.17 in /usr/local/lib/python3.10/dist-packages (from transformers) (1.26.4)\n",
      "Requirement already satisfied: packaging>=20.0 in /usr/local/lib/python3.10/dist-packages (from transformers) (24.1)\n",
      "Requirement already satisfied: pyyaml>=5.1 in /usr/local/lib/python3.10/dist-packages (from transformers) (6.0.2)\n",
      "Requirement already satisfied: regex!=2019.12.17 in /usr/local/lib/python3.10/dist-packages (from transformers) (2024.9.11)\n",
      "Requirement already satisfied: requests in /usr/local/lib/python3.10/dist-packages (from transformers) (2.32.3)\n",
      "Requirement already satisfied: safetensors>=0.4.1 in /usr/local/lib/python3.10/dist-packages (from transformers) (0.4.5)\n",
      "Requirement already satisfied: tokenizers<0.20,>=0.19 in /usr/local/lib/python3.10/dist-packages (from transformers) (0.19.1)\n",
      "Requirement already satisfied: tqdm>=4.27 in /usr/local/lib/python3.10/dist-packages (from transformers) (4.66.5)\n",
      "Requirement already satisfied: typing-extensions>=4.8.0 in /usr/local/lib/python3.10/dist-packages (from torch) (4.12.2)\n",
      "Requirement already satisfied: sympy in /usr/local/lib/python3.10/dist-packages (from torch) (1.13.3)\n",
      "Requirement already satisfied: networkx in /usr/local/lib/python3.10/dist-packages (from torch) (3.3)\n",
      "Requirement already satisfied: jinja2 in /usr/local/lib/python3.10/dist-packages (from torch) (3.1.4)\n",
      "Requirement already satisfied: fsspec in /usr/local/lib/python3.10/dist-packages (from torch) (2024.6.1)\n",
      "Collecting PyArabic (from arabert)\n",
      "  Downloading PyArabic-0.6.15-py3-none-any.whl.metadata (10 kB)\n",
      "Collecting farasapy (from arabert)\n",
      "  Downloading farasapy-0.0.14-py3-none-any.whl.metadata (8.9 kB)\n",
      "Collecting emoji==1.4.2 (from arabert)\n",
      "  Downloading emoji-1.4.2.tar.gz (184 kB)\n",
      "\u001b[2K     \u001b[90m━━━━━━━━━━━━━━━━━━━━━━━━━━━━━━━━━━━━━━━━\u001b[0m \u001b[32m185.0/185.0 kB\u001b[0m \u001b[31m5.5 MB/s\u001b[0m eta \u001b[36m0:00:00\u001b[0m\n",
      "\u001b[?25h  Preparing metadata (setup.py) ... \u001b[?25l\u001b[?25hdone\n",
      "Requirement already satisfied: MarkupSafe>=2.0 in /usr/local/lib/python3.10/dist-packages (from jinja2->torch) (2.1.5)\n",
      "Requirement already satisfied: six>=1.14.0 in /usr/local/lib/python3.10/dist-packages (from PyArabic->arabert) (1.16.0)\n",
      "Requirement already satisfied: charset-normalizer<4,>=2 in /usr/local/lib/python3.10/dist-packages (from requests->transformers) (3.3.2)\n",
      "Requirement already satisfied: idna<4,>=2.5 in /usr/local/lib/python3.10/dist-packages (from requests->transformers) (2.10)\n",
      "Requirement already satisfied: urllib3<3,>=1.21.1 in /usr/local/lib/python3.10/dist-packages (from requests->transformers) (2.2.3)\n",
      "Requirement already satisfied: certifi>=2017.4.17 in /usr/local/lib/python3.10/dist-packages (from requests->transformers) (2024.8.30)\n",
      "Requirement already satisfied: mpmath<1.4,>=1.1.0 in /usr/local/lib/python3.10/dist-packages (from sympy->torch) (1.3.0)\n",
      "Downloading arabert-1.0.1-py3-none-any.whl (179 kB)\n",
      "\u001b[2K   \u001b[90m━━━━━━━━━━━━━━━━━━━━━━━━━━━━━━━━━━━━━━━━\u001b[0m \u001b[32m179.3/179.3 kB\u001b[0m \u001b[31m12.5 MB/s\u001b[0m eta \u001b[36m0:00:00\u001b[0m\n",
      "\u001b[?25hDownloading farasapy-0.0.14-py3-none-any.whl (11 kB)\n",
      "Downloading PyArabic-0.6.15-py3-none-any.whl (126 kB)\n",
      "\u001b[2K   \u001b[90m━━━━━━━━━━━━━━━━━━━━━━━━━━━━━━━━━━━━━━━━\u001b[0m \u001b[32m126.4/126.4 kB\u001b[0m \u001b[31m8.5 MB/s\u001b[0m eta \u001b[36m0:00:00\u001b[0m\n",
      "\u001b[?25hBuilding wheels for collected packages: emoji\n",
      "  Building wheel for emoji (setup.py) ... \u001b[?25l\u001b[?25hdone\n",
      "  Created wheel for emoji: filename=emoji-1.4.2-py3-none-any.whl size=186456 sha256=7a6a6201d3b171688809ad68bc3cf51264c76e291c59c73ba272f879c5f1bfe5\n",
      "  Stored in directory: /root/.cache/pip/wheels/10/f0/fd/4813b1177405693e8da9cdea839f0fb64fde161380e058c827\n",
      "Successfully built emoji\n",
      "Installing collected packages: emoji, PyArabic, farasapy, arabert\n",
      "Successfully installed PyArabic-0.6.15 arabert-1.0.1 emoji-1.4.2 farasapy-0.0.14\n"
     ]
    }
   ],
   "source": [
    "!pip install transformers torch arabert"
   ]
  },
  {
   "cell_type": "markdown",
   "metadata": {
    "id": "9JJ_6Cb3Wct1"
   },
   "source": [
    "**Step 3 - Perform Emotion Detection Using AraBERT**"
   ]
  },
  {
   "cell_type": "code",
   "execution_count": null,
   "metadata": {
    "colab": {
     "base_uri": "https://localhost:8080/"
    },
    "id": "eUjXnmoXQ3et",
    "outputId": "8f4b1f00-c075-4e3e-c321-a15f0655c984"
   },
   "outputs": [
    {
     "name": "stderr",
     "output_type": "stream",
     "text": [
      "Some weights of BertForSequenceClassification were not initialized from the model checkpoint at CAMeL-Lab/bert-base-arabic-camelbert-mix and are newly initialized: ['classifier.bias', 'classifier.weight']\n",
      "You should probably TRAIN this model on a down-stream task to be able to use it for predictions and inference.\n",
      "/usr/local/lib/python3.10/dist-packages/transformers/tokenization_utils_base.py:1601: FutureWarning: `clean_up_tokenization_spaces` was not set. It will be set to `True` by default. This behavior will be depracted in transformers v4.45, and will be then set to `False` by default. For more details check this issue: https://github.com/huggingface/transformers/issues/31884\n",
      "  warnings.warn(\n"
     ]
    },
    {
     "name": "stdout",
     "output_type": "stream",
     "text": [
      "Sentence: أشعر بخيبة أمل من عمر البطارية في جهاز iPhone 5 الخاص بي.\n",
      "Detected Emotion: LABEL_0\n",
      "\n",
      "Sentence: تدهورت عمر البطارية على جهاز iPhone 5 الخاص بي بمرور الوقت ، والآن بالكاد يستمر نصف يوم.\n",
      "Detected Emotion: LABEL_0\n",
      "\n",
      "Sentence: عمر البطارية على جهاز iPhone 5 الخاص بي ليس رائعًا ، وعلي شحنه عدة مرات في اليوم.\n",
      "Detected Emotion: LABEL_0\n",
      "\n",
      "Sentence: لقد تفاقم عمر البطارية بشكل كبير منذ أن اشتريت الهاتف قبل عام.\n",
      "Detected Emotion: LABEL_0\n",
      "\n",
      "Sentence: أحب الهاتف ، لكن عمر البطارية قد يكون بالتأكيد أفضل.\n",
      "Detected Emotion: LABEL_0\n",
      "\n",
      "Sentence: عمر البطارية كافيًا إذا لم تكن تستخدمها باستمرار ، ولكنها ليست رائعة للمستخدمين الثقيل.\n",
      "Detected Emotion: LABEL_0\n",
      "\n",
      "Sentence: لا بد لي من حمل بنك الطاقة معي لأن البطارية لا تدوم لفترة كافية.\n",
      "Detected Emotion: LABEL_0\n",
      "\n",
      "Sentence: أتمنى أن تستمر البطارية يومًا كاملاً دون الحاجة إلى إعادة الشحن في منتصف الطريق.\n",
      "Detected Emotion: LABEL_0\n",
      "\n",
      "Sentence: عمر البطارية ليس فظيعًا ، ولكن يمكن تحسينه.\n",
      "Detected Emotion: LABEL_0\n",
      "\n",
      "Sentence: استنزاف البطارية بسرعة بشكل لا يصدق عندما أستخدم التطبيقات أو تصفح الويب.\n",
      "Detected Emotion: LABEL_0\n",
      "\n",
      "Sentence: أنا سعيد بالهاتف ، لكن البطارية تستنزف بسرعة كبيرة بسبب رغبتي.\n",
      "Detected Emotion: LABEL_0\n",
      "\n",
      "Sentence: عمر البطارية على جهاز iPhone 5 الخاص بي لائق للمكالمات والنصوص الأساسية ولكنه يكافح مع التطبيقات.\n",
      "Detected Emotion: LABEL_0\n",
      "\n",
      "Sentence: أحب الهاتف ، لكن عمر البطارية فظيع.\n",
      "Detected Emotion: LABEL_0\n",
      "\n",
      "Sentence: إنه هاتف جيد بشكل عام ، لكن عمر البطارية يترك الكثير مما هو مرغوب فيه.\n",
      "Detected Emotion: LABEL_0\n",
      "\n",
      "Sentence: كانت عمر البطارية جيدًا ، ولكن بعد بضعة أشهر ، لم تدوم أكثر من بضع ساعات.\n",
      "Detected Emotion: LABEL_0\n",
      "\n",
      "Sentence: عمر البطارية بالكاد يكفي ليستمر لي يوم عمل كامل.\n",
      "Detected Emotion: LABEL_0\n",
      "\n",
      "Sentence: بعد امتلاك الهاتف لمدة عامين ، بالكاد تستمر البطارية أربع ساعات الآن.\n",
      "Detected Emotion: LABEL_0\n",
      "\n",
      "Sentence: حتى بعد استبدال البطارية ، لا يزال عمر البطارية على جهاز iPhone 5 سيئًا.\n",
      "Detected Emotion: LABEL_0\n",
      "\n",
      "Sentence: أنا أفكر في تبديل الهواتف لأن عمر البطارية غير موثوق به.\n",
      "Detected Emotion: LABEL_0\n",
      "\n",
      "Sentence: البطارية هي أسوأ جزء من هذا الهاتف.يستنزف في بضع ساعات فقط من الاستخدام المنتظم.\n",
      "Detected Emotion: LABEL_0\n",
      "\n",
      "Sentence: اعتادت عمر البطارية أن تكون رائعة ، لكنها انخفضت بشكل كبير بمرور الوقت.\n",
      "Detected Emotion: LABEL_0\n",
      "\n",
      "Sentence: يجب أن أبقي السطوع منخفضًا وإيقاف الإخطارات لجعل البطارية تدوم لفترة أطول.\n",
      "Detected Emotion: LABEL_0\n",
      "\n",
      "Sentence: يعمل الهاتف بشكل جيد ، لكن البطارية هي جانب سلبي رئيسي.\n",
      "Detected Emotion: LABEL_0\n",
      "\n",
      "Sentence: أنا شحن الهاتف بين عشية وضحاها ، ولكن بحلول فترة ما بعد الظهر ، فإن البطارية منخفضة بالفعل.\n",
      "Detected Emotion: LABEL_0\n",
      "\n",
      "Sentence: أتمنى أن يكون عمر البطارية أفضل لأنني أحب الهاتف.\n",
      "Detected Emotion: LABEL_0\n",
      "\n",
      "Sentence: استنزاف البطارية على iPhone 5 بسرعة كبيرة لدرجة أنني يجب أن أبحث باستمرار عن شاحن.\n",
      "Detected Emotion: LABEL_0\n",
      "\n",
      "Sentence: إنه لأمر محبط مدى استنزاف البطارية ، حتى عندما لا أستخدم الهاتف كثيرًا.\n",
      "Detected Emotion: LABEL_0\n",
      "\n",
      "Sentence: تستخدم البطارية لتستمر طوال اليوم ، لكنها الآن بالكاد تجعلها خلال بضع ساعات.\n",
      "Detected Emotion: LABEL_0\n",
      "\n",
      "Sentence: أنا أحب الهاتف ، لكن عمر البطارية يحتاج إلى تحسن خطير.\n",
      "Detected Emotion: LABEL_0\n",
      "\n",
      "Sentence: الهاتف خفيف الوزن ، لكن عمر البطارية لا يتطابق مع قابلية نقله.\n",
      "Detected Emotion: LABEL_0\n",
      "\n",
      "Sentence: تستنزف البطارية بسرعة عندما أقوم ببث مقاطع الفيديو أو ممارسة الألعاب.\n",
      "Detected Emotion: LABEL_0\n",
      "\n",
      "Sentence: بالنسبة للهاتف الذي يبلغ عمره بضع سنوات ، فإن عمر البطارية لائق بشكل مدهش.\n",
      "Detected Emotion: LABEL_0\n",
      "\n",
      "Sentence: لقد اعتدت على عمر البطارية القصير ، لكن الأمر لا يزال محبطًا.\n",
      "Detected Emotion: LABEL_0\n",
      "\n",
      "Sentence: يمكن التحكم في عمر البطارية إذا لم تستخدم الهاتف لأي شيء أكثر من المكالمات والنصوص.\n",
      "Detected Emotion: LABEL_0\n",
      "\n",
      "Sentence: إذا كنت تستخدم التطبيقات باستمرار ، فإن البطارية تستنزف بسرعة كبيرة.\n",
      "Detected Emotion: LABEL_0\n",
      "\n",
      "Sentence: تستمر البطارية حوالي 8 ساعات إذا كنت أستخدم الهاتف فقط للمهام الأساسية.\n",
      "Detected Emotion: LABEL_0\n",
      "\n",
      "Sentence: أنا راضٍ عن الهاتف بشكل عام ، لكن عمر البطارية ليس رائعًا.\n",
      "Detected Emotion: LABEL_0\n",
      "\n"
     ]
    }
   ],
   "source": [
    "#Emotion Detection Using AraBERT:\n",
    "from transformers import pipeline\n",
    "\n",
    "#load the pre-trained AraBERT sentiment analysis model\n",
    "sentiment_pipeline = pipeline(\"sentiment-analysis\", model=\"CAMeL-Lab/bert-base-arabic-camelbert-mix\")\n",
    "\n",
    "#function to detect emotion using AraBERT\n",
    "def detect_emotion_arabert(sentence):\n",
    "    result = sentiment_pipeline(sentence)\n",
    "    label = result[0]['label']  #numeric label (0, 1, 2)\n",
    "    return label\n",
    "\n",
    "#apply AraBERT to detect emotions in extracted sentences\n",
    "emotion_results_arabert = []\n",
    "for sentence in aspect_sentences:\n",
    "    emotion = detect_emotion_arabert(sentence)\n",
    "    emotion_results_arabert.append((sentence, emotion))\n",
    "\n",
    "#print the detected emotions along with sentences\n",
    "for sentence, emotion in emotion_results_arabert:\n",
    "    print(f\"Sentence: {sentence}\\nDetected Emotion: {emotion}\\n\")"
   ]
  },
  {
   "cell_type": "markdown",
   "metadata": {
    "id": "Yr7BLA88X7aZ"
   },
   "source": [
    "After extracting the battery life-related phrases, we will utilize AraBERT to identify the emotions (such as joy, anger, or neutral) that were communicated in those sentences.\n",
    "\n",
    "Here, we load a pre-trained AraBERT model from HuggingFace and apply it to the task of identifying emotions in aspect-specific words pertaining to the iPhone 5's battery life."
   ]
  },
  {
   "cell_type": "markdown",
   "metadata": {
    "id": "RTdagQW2Wnj9"
   },
   "source": [
    "**Step 4 - Map Numeric Labels to Emotion Categories**"
   ]
  },
  {
   "cell_type": "code",
   "execution_count": null,
   "metadata": {
    "colab": {
     "base_uri": "https://localhost:8080/"
    },
    "id": "3yN_0s_CSlwO",
    "outputId": "4fbb5b7e-0f13-473d-f61e-e62bcb8e9a07"
   },
   "outputs": [
    {
     "name": "stdout",
     "output_type": "stream",
     "text": [
      "Sentence: أشعر بخيبة أمل من عمر البطارية في جهاز iPhone 5 الخاص بي.\n",
      "Mapped Predicted Emotion: anger\n",
      "\n",
      "Sentence: تدهورت عمر البطارية على جهاز iPhone 5 الخاص بي بمرور الوقت ، والآن بالكاد يستمر نصف يوم.\n",
      "Mapped Predicted Emotion: anger\n",
      "\n",
      "Sentence: عمر البطارية على جهاز iPhone 5 الخاص بي ليس رائعًا ، وعلي شحنه عدة مرات في اليوم.\n",
      "Mapped Predicted Emotion: anger\n",
      "\n",
      "Sentence: لقد تفاقم عمر البطارية بشكل كبير منذ أن اشتريت الهاتف قبل عام.\n",
      "Mapped Predicted Emotion: anger\n",
      "\n",
      "Sentence: أحب الهاتف ، لكن عمر البطارية قد يكون بالتأكيد أفضل.\n",
      "Mapped Predicted Emotion: anger\n",
      "\n",
      "Sentence: عمر البطارية كافيًا إذا لم تكن تستخدمها باستمرار ، ولكنها ليست رائعة للمستخدمين الثقيل.\n",
      "Mapped Predicted Emotion: anger\n",
      "\n",
      "Sentence: لا بد لي من حمل بنك الطاقة معي لأن البطارية لا تدوم لفترة كافية.\n",
      "Mapped Predicted Emotion: anger\n",
      "\n",
      "Sentence: أتمنى أن تستمر البطارية يومًا كاملاً دون الحاجة إلى إعادة الشحن في منتصف الطريق.\n",
      "Mapped Predicted Emotion: anger\n",
      "\n",
      "Sentence: عمر البطارية ليس فظيعًا ، ولكن يمكن تحسينه.\n",
      "Mapped Predicted Emotion: anger\n",
      "\n",
      "Sentence: استنزاف البطارية بسرعة بشكل لا يصدق عندما أستخدم التطبيقات أو تصفح الويب.\n",
      "Mapped Predicted Emotion: anger\n",
      "\n",
      "Sentence: أنا سعيد بالهاتف ، لكن البطارية تستنزف بسرعة كبيرة بسبب رغبتي.\n",
      "Mapped Predicted Emotion: anger\n",
      "\n",
      "Sentence: عمر البطارية على جهاز iPhone 5 الخاص بي لائق للمكالمات والنصوص الأساسية ولكنه يكافح مع التطبيقات.\n",
      "Mapped Predicted Emotion: anger\n",
      "\n",
      "Sentence: أحب الهاتف ، لكن عمر البطارية فظيع.\n",
      "Mapped Predicted Emotion: anger\n",
      "\n",
      "Sentence: إنه هاتف جيد بشكل عام ، لكن عمر البطارية يترك الكثير مما هو مرغوب فيه.\n",
      "Mapped Predicted Emotion: anger\n",
      "\n",
      "Sentence: كانت عمر البطارية جيدًا ، ولكن بعد بضعة أشهر ، لم تدوم أكثر من بضع ساعات.\n",
      "Mapped Predicted Emotion: anger\n",
      "\n",
      "Sentence: عمر البطارية بالكاد يكفي ليستمر لي يوم عمل كامل.\n",
      "Mapped Predicted Emotion: anger\n",
      "\n",
      "Sentence: بعد امتلاك الهاتف لمدة عامين ، بالكاد تستمر البطارية أربع ساعات الآن.\n",
      "Mapped Predicted Emotion: anger\n",
      "\n",
      "Sentence: حتى بعد استبدال البطارية ، لا يزال عمر البطارية على جهاز iPhone 5 سيئًا.\n",
      "Mapped Predicted Emotion: anger\n",
      "\n",
      "Sentence: أنا أفكر في تبديل الهواتف لأن عمر البطارية غير موثوق به.\n",
      "Mapped Predicted Emotion: anger\n",
      "\n",
      "Sentence: البطارية هي أسوأ جزء من هذا الهاتف.يستنزف في بضع ساعات فقط من الاستخدام المنتظم.\n",
      "Mapped Predicted Emotion: anger\n",
      "\n",
      "Sentence: اعتادت عمر البطارية أن تكون رائعة ، لكنها انخفضت بشكل كبير بمرور الوقت.\n",
      "Mapped Predicted Emotion: anger\n",
      "\n",
      "Sentence: يجب أن أبقي السطوع منخفضًا وإيقاف الإخطارات لجعل البطارية تدوم لفترة أطول.\n",
      "Mapped Predicted Emotion: anger\n",
      "\n",
      "Sentence: يعمل الهاتف بشكل جيد ، لكن البطارية هي جانب سلبي رئيسي.\n",
      "Mapped Predicted Emotion: anger\n",
      "\n",
      "Sentence: أنا شحن الهاتف بين عشية وضحاها ، ولكن بحلول فترة ما بعد الظهر ، فإن البطارية منخفضة بالفعل.\n",
      "Mapped Predicted Emotion: anger\n",
      "\n",
      "Sentence: أتمنى أن يكون عمر البطارية أفضل لأنني أحب الهاتف.\n",
      "Mapped Predicted Emotion: anger\n",
      "\n",
      "Sentence: استنزاف البطارية على iPhone 5 بسرعة كبيرة لدرجة أنني يجب أن أبحث باستمرار عن شاحن.\n",
      "Mapped Predicted Emotion: anger\n",
      "\n",
      "Sentence: إنه لأمر محبط مدى استنزاف البطارية ، حتى عندما لا أستخدم الهاتف كثيرًا.\n",
      "Mapped Predicted Emotion: anger\n",
      "\n",
      "Sentence: تستخدم البطارية لتستمر طوال اليوم ، لكنها الآن بالكاد تجعلها خلال بضع ساعات.\n",
      "Mapped Predicted Emotion: anger\n",
      "\n",
      "Sentence: أنا أحب الهاتف ، لكن عمر البطارية يحتاج إلى تحسن خطير.\n",
      "Mapped Predicted Emotion: anger\n",
      "\n",
      "Sentence: الهاتف خفيف الوزن ، لكن عمر البطارية لا يتطابق مع قابلية نقله.\n",
      "Mapped Predicted Emotion: anger\n",
      "\n",
      "Sentence: تستنزف البطارية بسرعة عندما أقوم ببث مقاطع الفيديو أو ممارسة الألعاب.\n",
      "Mapped Predicted Emotion: anger\n",
      "\n",
      "Sentence: بالنسبة للهاتف الذي يبلغ عمره بضع سنوات ، فإن عمر البطارية لائق بشكل مدهش.\n",
      "Mapped Predicted Emotion: anger\n",
      "\n",
      "Sentence: لقد اعتدت على عمر البطارية القصير ، لكن الأمر لا يزال محبطًا.\n",
      "Mapped Predicted Emotion: anger\n",
      "\n",
      "Sentence: يمكن التحكم في عمر البطارية إذا لم تستخدم الهاتف لأي شيء أكثر من المكالمات والنصوص.\n",
      "Mapped Predicted Emotion: anger\n",
      "\n",
      "Sentence: إذا كنت تستخدم التطبيقات باستمرار ، فإن البطارية تستنزف بسرعة كبيرة.\n",
      "Mapped Predicted Emotion: anger\n",
      "\n",
      "Sentence: تستمر البطارية حوالي 8 ساعات إذا كنت أستخدم الهاتف فقط للمهام الأساسية.\n",
      "Mapped Predicted Emotion: anger\n",
      "\n",
      "Sentence: أنا راضٍ عن الهاتف بشكل عام ، لكن عمر البطارية ليس رائعًا.\n",
      "Mapped Predicted Emotion: anger\n",
      "\n"
     ]
    }
   ],
   "source": [
    "#lets define the mapping from string labels to expected emotion labels\n",
    "label_mapping = {\n",
    "    'LABEL_0': 'anger',   #negative\n",
    "    'LABEL_1': 'neutral',  #neutral\n",
    "    'LABEL_2': 'joy'      #positive\n",
    "}\n",
    "\n",
    "#apply the mapping to predicted labels\n",
    "predicted_labels_mapped = [label_mapping[label] for sentence, label in emotion_results_arabert]\n",
    "\n",
    "#print the mapped results\n",
    "for sentence, predicted_label in zip(aspect_sentences, predicted_labels_mapped):\n",
    "    print(f\"Sentence: {sentence}\\nMapped Predicted Emotion: {predicted_label}\\n\")"
   ]
  },
  {
   "cell_type": "markdown",
   "metadata": {
    "id": "qxJJkpzwYHAs"
   },
   "source": [
    "The numerical labels (such as \"LABEL_0,\" \"LABEL_1,\" and \"LABEL_2\") will be mapped to more significant categories like \"anger,\" \"neutral,\" and \"joy.\"\n",
    "\n",
    "Here, we are assigning readable emotion categories like \"anger,\" \"joy,\" and \"neutral\" to the numerical labels the model returned."
   ]
  },
  {
   "cell_type": "markdown",
   "metadata": {
    "id": "gx3MhghFWt9K"
   },
   "source": [
    "**Step 5 - Manual Validation and Evaluation Metrics**"
   ]
  },
  {
   "cell_type": "code",
   "execution_count": null,
   "metadata": {
    "colab": {
     "base_uri": "https://localhost:8080/"
    },
    "id": "hq4TTNaIRLqv",
    "outputId": "dbecf31e-fa6f-4cf4-ae32-41d2c3f0ae82"
   },
   "outputs": [
    {
     "name": "stdout",
     "output_type": "stream",
     "text": [
      "Sentence: أشعر بخيبة أمل من عمر البطارية في جهاز iPhone 5 الخاص بي.\n",
      "Detected Emotion: anger\n",
      "What is the correct emotion (joy/anger/sadness/neutral)? anger\n",
      "True Emotion: anger\n",
      "\n",
      "Sentence: تدهورت عمر البطارية على جهاز iPhone 5 الخاص بي بمرور الوقت ، والآن بالكاد يستمر نصف يوم.\n",
      "Detected Emotion: anger\n",
      "What is the correct emotion (joy/anger/sadness/neutral)? anger\n",
      "True Emotion: anger\n",
      "\n",
      "Sentence: عمر البطارية على جهاز iPhone 5 الخاص بي ليس رائعًا ، وعلي شحنه عدة مرات في اليوم.\n",
      "Detected Emotion: anger\n",
      "What is the correct emotion (joy/anger/sadness/neutral)? anger\n",
      "True Emotion: anger\n",
      "\n",
      "Sentence: لقد تفاقم عمر البطارية بشكل كبير منذ أن اشتريت الهاتف قبل عام.\n",
      "Detected Emotion: anger\n",
      "What is the correct emotion (joy/anger/sadness/neutral)? anger\n",
      "True Emotion: anger\n",
      "\n",
      "Sentence: أحب الهاتف ، لكن عمر البطارية قد يكون بالتأكيد أفضل.\n",
      "Detected Emotion: anger\n",
      "What is the correct emotion (joy/anger/sadness/neutral)? neutral\n",
      "True Emotion: neutral\n",
      "\n",
      "Sentence: عمر البطارية كافيًا إذا لم تكن تستخدمها باستمرار ، ولكنها ليست رائعة للمستخدمين الثقيل.\n",
      "Detected Emotion: anger\n",
      "What is the correct emotion (joy/anger/sadness/neutral)? neural\n",
      "True Emotion: neural\n",
      "\n",
      "Sentence: لا بد لي من حمل بنك الطاقة معي لأن البطارية لا تدوم لفترة كافية.\n",
      "Detected Emotion: anger\n",
      "What is the correct emotion (joy/anger/sadness/neutral)? anger\n",
      "True Emotion: anger\n",
      "\n",
      "Sentence: أتمنى أن تستمر البطارية يومًا كاملاً دون الحاجة إلى إعادة الشحن في منتصف الطريق.\n",
      "Detected Emotion: anger\n",
      "What is the correct emotion (joy/anger/sadness/neutral)? anger\n",
      "True Emotion: anger\n",
      "\n",
      "Sentence: عمر البطارية ليس فظيعًا ، ولكن يمكن تحسينه.\n",
      "Detected Emotion: anger\n",
      "What is the correct emotion (joy/anger/sadness/neutral)? neutral\n",
      "True Emotion: neutral\n",
      "\n",
      "Sentence: استنزاف البطارية بسرعة بشكل لا يصدق عندما أستخدم التطبيقات أو تصفح الويب.\n",
      "Detected Emotion: anger\n",
      "What is the correct emotion (joy/anger/sadness/neutral)? anger\n",
      "True Emotion: anger\n",
      "\n",
      "Sentence: أنا سعيد بالهاتف ، لكن البطارية تستنزف بسرعة كبيرة بسبب رغبتي.\n",
      "Detected Emotion: anger\n",
      "What is the correct emotion (joy/anger/sadness/neutral)? neutral\n",
      "True Emotion: neutral\n",
      "\n",
      "Sentence: عمر البطارية على جهاز iPhone 5 الخاص بي لائق للمكالمات والنصوص الأساسية ولكنه يكافح مع التطبيقات.\n",
      "Detected Emotion: anger\n",
      "What is the correct emotion (joy/anger/sadness/neutral)? anger\n",
      "True Emotion: anger\n",
      "\n",
      "Sentence: أحب الهاتف ، لكن عمر البطارية فظيع.\n",
      "Detected Emotion: anger\n",
      "What is the correct emotion (joy/anger/sadness/neutral)? neutral\n",
      "True Emotion: neutral\n",
      "\n",
      "Sentence: إنه هاتف جيد بشكل عام ، لكن عمر البطارية يترك الكثير مما هو مرغوب فيه.\n",
      "Detected Emotion: anger\n",
      "What is the correct emotion (joy/anger/sadness/neutral)? neutral\n",
      "True Emotion: neutral\n",
      "\n",
      "Sentence: كانت عمر البطارية جيدًا ، ولكن بعد بضعة أشهر ، لم تدوم أكثر من بضع ساعات.\n",
      "Detected Emotion: anger\n",
      "What is the correct emotion (joy/anger/sadness/neutral)? anger\n",
      "True Emotion: anger\n",
      "\n",
      "Sentence: عمر البطارية بالكاد يكفي ليستمر لي يوم عمل كامل.\n",
      "Detected Emotion: anger\n",
      "What is the correct emotion (joy/anger/sadness/neutral)? anger\n",
      "True Emotion: anger\n",
      "\n",
      "Sentence: بعد امتلاك الهاتف لمدة عامين ، بالكاد تستمر البطارية أربع ساعات الآن.\n",
      "Detected Emotion: anger\n",
      "What is the correct emotion (joy/anger/sadness/neutral)? anger\n",
      "True Emotion: anger\n",
      "\n",
      "Sentence: حتى بعد استبدال البطارية ، لا يزال عمر البطارية على جهاز iPhone 5 سيئًا.\n",
      "Detected Emotion: anger\n",
      "What is the correct emotion (joy/anger/sadness/neutral)? anger\n",
      "True Emotion: anger\n",
      "\n",
      "Sentence: أنا أفكر في تبديل الهواتف لأن عمر البطارية غير موثوق به.\n",
      "Detected Emotion: anger\n",
      "What is the correct emotion (joy/anger/sadness/neutral)? anger\n",
      "True Emotion: anger\n",
      "\n",
      "Sentence: البطارية هي أسوأ جزء من هذا الهاتف.يستنزف في بضع ساعات فقط من الاستخدام المنتظم.\n",
      "Detected Emotion: anger\n",
      "What is the correct emotion (joy/anger/sadness/neutral)? anger\n",
      "True Emotion: anger\n",
      "\n",
      "Sentence: اعتادت عمر البطارية أن تكون رائعة ، لكنها انخفضت بشكل كبير بمرور الوقت.\n",
      "Detected Emotion: anger\n",
      "What is the correct emotion (joy/anger/sadness/neutral)? anger\n",
      "True Emotion: anger\n",
      "\n",
      "Sentence: يجب أن أبقي السطوع منخفضًا وإيقاف الإخطارات لجعل البطارية تدوم لفترة أطول.\n",
      "Detected Emotion: anger\n",
      "What is the correct emotion (joy/anger/sadness/neutral)? anger\n",
      "True Emotion: anger\n",
      "\n",
      "Sentence: يعمل الهاتف بشكل جيد ، لكن البطارية هي جانب سلبي رئيسي.\n",
      "Detected Emotion: anger\n",
      "What is the correct emotion (joy/anger/sadness/neutral)? neutral\n",
      "True Emotion: neutral\n",
      "\n",
      "Sentence: أنا شحن الهاتف بين عشية وضحاها ، ولكن بحلول فترة ما بعد الظهر ، فإن البطارية منخفضة بالفعل.\n",
      "Detected Emotion: anger\n",
      "What is the correct emotion (joy/anger/sadness/neutral)? anger\n",
      "True Emotion: anger\n",
      "\n",
      "Sentence: أتمنى أن يكون عمر البطارية أفضل لأنني أحب الهاتف.\n",
      "Detected Emotion: anger\n",
      "What is the correct emotion (joy/anger/sadness/neutral)? neutral\n",
      "True Emotion: neutral\n",
      "\n",
      "Sentence: استنزاف البطارية على iPhone 5 بسرعة كبيرة لدرجة أنني يجب أن أبحث باستمرار عن شاحن.\n",
      "Detected Emotion: anger\n",
      "What is the correct emotion (joy/anger/sadness/neutral)? anger\n",
      "True Emotion: anger\n",
      "\n",
      "Sentence: إنه لأمر محبط مدى استنزاف البطارية ، حتى عندما لا أستخدم الهاتف كثيرًا.\n",
      "Detected Emotion: anger\n",
      "What is the correct emotion (joy/anger/sadness/neutral)? anger\n",
      "True Emotion: anger\n",
      "\n",
      "Sentence: تستخدم البطارية لتستمر طوال اليوم ، لكنها الآن بالكاد تجعلها خلال بضع ساعات.\n",
      "Detected Emotion: anger\n",
      "What is the correct emotion (joy/anger/sadness/neutral)? anger\n",
      "True Emotion: anger\n",
      "\n",
      "Sentence: أنا أحب الهاتف ، لكن عمر البطارية يحتاج إلى تحسن خطير.\n",
      "Detected Emotion: anger\n",
      "What is the correct emotion (joy/anger/sadness/neutral)? neutral\n",
      "True Emotion: neutral\n",
      "\n",
      "Sentence: الهاتف خفيف الوزن ، لكن عمر البطارية لا يتطابق مع قابلية نقله.\n",
      "Detected Emotion: anger\n",
      "What is the correct emotion (joy/anger/sadness/neutral)? anger\n",
      "True Emotion: anger\n",
      "\n",
      "Sentence: تستنزف البطارية بسرعة عندما أقوم ببث مقاطع الفيديو أو ممارسة الألعاب.\n",
      "Detected Emotion: anger\n",
      "What is the correct emotion (joy/anger/sadness/neutral)? anger\n",
      "True Emotion: anger\n",
      "\n",
      "Sentence: بالنسبة للهاتف الذي يبلغ عمره بضع سنوات ، فإن عمر البطارية لائق بشكل مدهش.\n",
      "Detected Emotion: anger\n",
      "What is the correct emotion (joy/anger/sadness/neutral)? anger\n",
      "True Emotion: anger\n",
      "\n",
      "Sentence: لقد اعتدت على عمر البطارية القصير ، لكن الأمر لا يزال محبطًا.\n",
      "Detected Emotion: anger\n",
      "What is the correct emotion (joy/anger/sadness/neutral)? anger\n",
      "True Emotion: anger\n",
      "\n",
      "Sentence: يمكن التحكم في عمر البطارية إذا لم تستخدم الهاتف لأي شيء أكثر من المكالمات والنصوص.\n",
      "Detected Emotion: anger\n",
      "What is the correct emotion (joy/anger/sadness/neutral)? anger\n",
      "True Emotion: anger\n",
      "\n",
      "Sentence: إذا كنت تستخدم التطبيقات باستمرار ، فإن البطارية تستنزف بسرعة كبيرة.\n",
      "Detected Emotion: anger\n",
      "What is the correct emotion (joy/anger/sadness/neutral)? anger\n",
      "True Emotion: anger\n",
      "\n",
      "Sentence: تستمر البطارية حوالي 8 ساعات إذا كنت أستخدم الهاتف فقط للمهام الأساسية.\n",
      "Detected Emotion: anger\n",
      "What is the correct emotion (joy/anger/sadness/neutral)? anger\n",
      "True Emotion: anger\n",
      "\n",
      "Sentence: أنا راضٍ عن الهاتف بشكل عام ، لكن عمر البطارية ليس رائعًا.\n",
      "Detected Emotion: anger\n",
      "What is the correct emotion (joy/anger/sadness/neutral)? neutral\n",
      "True Emotion: neutral\n",
      "\n"
     ]
    }
   ],
   "source": [
    "#manual validation\n",
    "manual_validation_results = []\n",
    "for i in range(len(emotion_results_arabert)):\n",
    "    print(f\"Sentence: {emotion_results_arabert[i][0]}\")\n",
    "    print(f\"Detected Emotion: {label_mapping[emotion_results_arabert[i][1]]}\")\n",
    "    true_emotion = input(\"What is the correct emotion (joy/anger/sadness/neutral)? \")\n",
    "    manual_validation_results.append((emotion_results_arabert[i][0], true_emotion))\n",
    "    print(f\"True Emotion: {true_emotion}\\n\")"
   ]
  },
  {
   "cell_type": "markdown",
   "metadata": {
    "id": "8iREuTDGyd2s"
   },
   "source": [
    "In order to verify the accuracy of the model, we manually validate the predicted emotions in this stage by comparing them to the correct labels."
   ]
  },
  {
   "cell_type": "code",
   "execution_count": null,
   "metadata": {
    "colab": {
     "base_uri": "https://localhost:8080/"
    },
    "id": "NF1CL94KRUtb",
    "outputId": "4fc3a447-9237-473a-9db6-b33bad9af59d"
   },
   "outputs": [
    {
     "name": "stdout",
     "output_type": "stream",
     "text": [
      "Accuracy: 0.7297297297297297\n",
      "Precision: 0.9099099099099099\n",
      "Recall: 0.3333333333333333\n",
      "F1 Score: 0.28125\n"
     ]
    }
   ],
   "source": [
    "#Evaluation Metrics\n",
    "from sklearn.metrics import accuracy_score, precision_score, recall_score, f1_score\n",
    "\n",
    "#these are the labels we input\n",
    "true_labels = [result[1] for result in manual_validation_results]\n",
    "#mapped predicted labels\n",
    "predicted_labels = [label_mapping[result[1]] for result in emotion_results_arabert]\n",
    "\n",
    "#ensure the lengths of true_labels and predicted_labels match\n",
    "if len(true_labels) == len(predicted_labels):\n",
    "    accuracy = accuracy_score(true_labels, predicted_labels)\n",
    "    precision = precision_score(true_labels, predicted_labels, average='macro', zero_division=1)\n",
    "    recall = recall_score(true_labels, predicted_labels, average='macro', zero_division=1)\n",
    "    f1 = f1_score(true_labels, predicted_labels, average='macro', zero_division=1)\n",
    "\n",
    "    print(f\"Accuracy: {accuracy}\")\n",
    "    print(f\"Precision: {precision}\")\n",
    "    print(f\"Recall: {recall}\")\n",
    "    print(f\"F1 Score: {f1}\")\n",
    "else:\n",
    "    print(\"The number of true labels and predicted labels do not match!\")\n"
   ]
  },
  {
   "cell_type": "markdown",
   "metadata": {
    "id": "UuVwnQcCZrlw"
   },
   "source": [
    "Then, in order to evaluate the overall effectiveness and reliability of the emotion detection model, we compute evaluation metrics including accuracy, precision, recall, and F1-score."
   ]
  },
  {
   "cell_type": "markdown",
   "metadata": {
    "id": "YsDgzS1fabBn"
   },
   "source": [
    "**Observations**:\n",
    "\n",
    "The emotion recognition model's evaluation produced a high accuracy of 73%, meaning that most statements pertaining to the iPhone 5 battery life were properly predicted by the model. The model was extremely likely correct when it predicted an emotion (such as joy, anger, or neutral) because of its exceptionally high precision of 91%. This implies that while the model is effective at identifying emotions, its forecast accuracy may be cautious.\n",
    "\n",
    "However, the recall was only 33%, indicating that the model missed a lot of instances in which specific emotions, particularly joy and anger, were present. This means that the model probably defaults to \"neutral\" far too frequently, underestimating some emotions. The difficulty of finding a balance between recall and precision is shown in the F1-score of 28%, especially when the model fails to identify emotions such as joy or anger.\n",
    "\n",
    "In conclusion, even though the model accurately predicts outcomes, it has trouble reliably identifying and recalling emotions, especially when it comes to emotions other than neutral. Better overall performance might result from further fine-tuning the model or class balance to increase recall."
   ]
  },
  {
   "cell_type": "markdown",
   "metadata": {
    "id": "9yROHBaiW3aF"
   },
   "source": [
    "**Step 6 - Generating Recommendations Based on the Results**"
   ]
  },
  {
   "cell_type": "code",
   "execution_count": null,
   "metadata": {
    "colab": {
     "base_uri": "https://localhost:8080/"
    },
    "id": "Ga5oNj-LVzVR",
    "outputId": "0c8b7e8e-752b-45c2-cce4-c239d2b156f1"
   },
   "outputs": [
    {
     "name": "stdout",
     "output_type": "stream",
     "text": [
      "Emotion Distribution:  Counter({'anger': 37})\n",
      "هناك الكثير من الإحباط بشأن هذا الجانب. قد يكون من الضروري تحسينه.\n"
     ]
    }
   ],
   "source": [
    "from collections import Counter\n",
    "\n",
    "#lets define a function to make a recommendation based on the emotions detected\n",
    "def make_recommendation_arabert(emotion_results_arabert):\n",
    "    #map the detected labels to emotions\n",
    "    emotions = [label_mapping[label] for sentence, label in emotion_results_arabert]\n",
    "    emotion_counts = Counter(emotions)\n",
    "\n",
    "    #print the emotion distribution\n",
    "    print(\"Emotion Distribution: \", emotion_counts)\n",
    "\n",
    "    #generate recommendations based on the distribution of emotions\n",
    "    if emotion_counts['joy'] > emotion_counts['anger'] + emotion_counts['sadness']:\n",
    "        return \"العملاء راضون بشكل عام عن هذا الجانب من المنتج.\"\n",
    "    elif emotion_counts['anger'] > emotion_counts['joy']:\n",
    "        return \"هناك الكثير من الإحباط بشأن هذا الجانب. قد يكون من الضروري تحسينه.\"\n",
    "    elif emotion_counts['sadness'] > emotion_counts['joy']:\n",
    "        return \"يبدو أن العملاء محبطون. هناك حاجة لتحسين هذا الجانب.\"\n",
    "    else:\n",
    "        return \"توجد مشاعر مختلطة. قد يكون من الأفضل إجراء مزيد من البحث.\"\n",
    "\n",
    "#provide a recommendation based on detected emotions\n",
    "recommendation = make_recommendation_arabert(emotion_results_arabert)\n",
    "print(recommendation)"
   ]
  },
  {
   "cell_type": "markdown",
   "metadata": {
    "id": "0CtyR5kkZ47s"
   },
   "source": [
    "Lastly, we produce a recommendation regarding whether or not customers find the iPhone 5's battery life to be generally satisfactory or in need of improvement, depending on the emotions that were detected (joy, anger, and neutral).\n",
    "\n",
    "Joy is a good indicator of pleasure with battery life if it's the most prevalent emotion.\n",
    "\n",
    "If anger predominates, it may indicate dissatisfaction and call for changes."
   ]
  },
  {
   "cell_type": "markdown",
   "metadata": {
    "id": "Zndf2g1Vao2Q"
   },
   "source": [
    "**Observations**:\n",
    "\n",
    "Anger is the most common emotion in the evaluations, with 37 occurrences of negative sentiment pertaining to the iPhone 5 battery life, according to the emotion detection reviews. This implies that the majority of customers are quite unhappy with this feature of the product.\n",
    "\n",
    "**Recommendation**:\n",
    "\n",
    "It's evident from the overwhelmingly negative customer comments that there is a great deal of annoyance with the iPhone 5's battery life. This suggests that enhancing battery performance will probably take care of a significant user complaint and would increase consumer happiness. It's recommended that product developers give priority to improving battery life in upcoming updates or releases in order to address this problem and reduce user frustration."
   ]
  },
  {
   "cell_type": "markdown",
   "metadata": {
    "id": "-Xhw2yrMbHqv"
   },
   "source": [
    "***Question to be answered: ***\n",
    "**How do customers feel about this aspect? Do you need to change it?**\n",
    "\n",
    "**Customer Sentiment:**\n",
    "\n",
    "The emotion recognition study shows that users are extremely irritated and disappointed with the iPhone 5's battery life. The predominance of anger suggests that most users find this to be a substantial source of unhappiness rather than a trivial problem. Negative overall experiences with the product are frequently attributed to complaints about the battery decreasing too quickly, the necessity for frequent recharging, and decreased performance over time. The customer reviews of this feature of the product are therefore primarily negative.\n",
    "\n",
    "**Necessity for Change:**\n",
    "\n",
    "This clear pattern of dissatisfaction makes it obvious that adjustments are required in order to raise consumer satisfaction. The performance of the iPhone 5's battery is a serious problem that has to be fixed immediately. Customer annoyance will probably continue to impact the product's overall perception if the battery life is not enhanced. Improving battery capacity or providing better-performing battery substitutes are some remedies that could lessen the unfavorable perception and rebuild the consumer's trust in the product."
   ]
  }
 ],
 "metadata": {
  "colab": {
   "provenance": []
  },
  "kernelspec": {
   "display_name": "Python 3 (ipykernel)",
   "language": "python",
   "name": "python3"
  },
  "language_info": {
   "codemirror_mode": {
    "name": "ipython",
    "version": 3
   },
   "file_extension": ".py",
   "mimetype": "text/x-python",
   "name": "python",
   "nbconvert_exporter": "python",
   "pygments_lexer": "ipython3",
   "version": "3.12.4"
  }
 },
 "nbformat": 4,
 "nbformat_minor": 4
}
